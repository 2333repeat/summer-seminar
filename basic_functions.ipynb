{
 "cells": [
  {
   "cell_type": "code",
   "id": "initial_id",
   "metadata": {
    "collapsed": true,
    "ExecuteTime": {
     "end_time": "2024-06-15T01:55:47.804037Z",
     "start_time": "2024-06-15T01:55:45.760393Z"
    }
   },
   "source": [
    "import torch\n",
    "import torch.nn as nn"
   ],
   "outputs": [],
   "execution_count": 1
  },
  {
   "metadata": {},
   "cell_type": "markdown",
   "source": [
    "# permute()\n",
    "## 主要作用：变换tensor维度\n",
    "### 参数：一系列的整数，代表原来张量的维度。比如，对于三维的张量，维度分别对应0，1，2\n",
    "#### 以下是实例，对于a = torch.randn(2, 3, 5)，尝试将其变换成torch.Size([3, 5, 2])的形状，因此，使用a.permute(1, 2, 0)"
   ],
   "id": "62fb7a2e46801b08"
  },
  {
   "metadata": {
    "ExecuteTime": {
     "end_time": "2024-06-15T02:23:51.001085Z",
     "start_time": "2024-06-15T02:23:50.997149Z"
    }
   },
   "cell_type": "code",
   "source": [
    "a = torch.randn(2, 3, 5)\n",
    "a.size()"
   ],
   "id": "7c2f19f6e72b0d74",
   "outputs": [
    {
     "data": {
      "text/plain": [
       "torch.Size([2, 3, 5])"
      ]
     },
     "execution_count": 24,
     "metadata": {},
     "output_type": "execute_result"
    }
   ],
   "execution_count": 24
  },
  {
   "metadata": {
    "ExecuteTime": {
     "end_time": "2024-06-15T02:23:52.633706Z",
     "start_time": "2024-06-15T02:23:52.630068Z"
    }
   },
   "cell_type": "code",
   "source": "a.permute(1, 2, 0).size() ",
   "id": "d949f9739da7c161",
   "outputs": [
    {
     "data": {
      "text/plain": [
       "torch.Size([3, 5, 2])"
      ]
     },
     "execution_count": 25,
     "metadata": {},
     "output_type": "execute_result"
    }
   ],
   "execution_count": 25
  },
  {
   "metadata": {},
   "cell_type": "markdown",
   "source": "#### 另一个实例，对于b=torch.randn(1,2,3,4)，尝试将其变换成torch.Size([4,3,2,1])的形状，使用b.permute(3,2,1,0)",
   "id": "7e030dca5ae33d8c"
  },
  {
   "metadata": {
    "ExecuteTime": {
     "end_time": "2024-06-15T02:49:10.356309Z",
     "start_time": "2024-06-15T02:49:10.351884Z"
    }
   },
   "cell_type": "code",
   "source": [
    "b = torch.randn(1, 2, 3, 4)\n",
    "b.size()"
   ],
   "id": "42849bceb594286f",
   "outputs": [
    {
     "data": {
      "text/plain": [
       "torch.Size([1, 2, 3, 4])"
      ]
     },
     "execution_count": 29,
     "metadata": {},
     "output_type": "execute_result"
    }
   ],
   "execution_count": 29
  },
  {
   "metadata": {
    "ExecuteTime": {
     "end_time": "2024-06-15T02:51:21.028056Z",
     "start_time": "2024-06-15T02:51:21.024222Z"
    }
   },
   "cell_type": "code",
   "source": "b.permute(3,2,1,0).size()",
   "id": "3b83c49264190b8",
   "outputs": [
    {
     "data": {
      "text/plain": [
       "torch.Size([4, 3, 2, 1])"
      ]
     },
     "execution_count": 32,
     "metadata": {},
     "output_type": "execute_result"
    }
   ],
   "execution_count": 32
  },
  {
   "metadata": {},
   "cell_type": "markdown",
   "source": "#### 值得注意的是，permute和transpose不一样，transpose仅仅能对二维的张量进行转置，不能操作高维的向量，以下是transpose的例子",
   "id": "e099e7cc6fe9af6d"
  },
  {
   "metadata": {
    "ExecuteTime": {
     "end_time": "2024-06-15T02:51:04.149191Z",
     "start_time": "2024-06-15T02:51:04.144912Z"
    }
   },
   "cell_type": "code",
   "source": [
    "c = torch.randn(1, 2)\n",
    "c.size()"
   ],
   "id": "5bdc89cddfee382f",
   "outputs": [
    {
     "data": {
      "text/plain": [
       "torch.Size([1, 2])"
      ]
     },
     "execution_count": 31,
     "metadata": {},
     "output_type": "execute_result"
    }
   ],
   "execution_count": 31
  },
  {
   "metadata": {
    "ExecuteTime": {
     "end_time": "2024-06-15T02:51:45.125075Z",
     "start_time": "2024-06-15T02:51:45.120891Z"
    }
   },
   "cell_type": "code",
   "source": "c.t().size()",
   "id": "a6a421a62d19363c",
   "outputs": [
    {
     "data": {
      "text/plain": [
       "torch.Size([2, 1])"
      ]
     },
     "execution_count": 33,
     "metadata": {},
     "output_type": "execute_result"
    }
   ],
   "execution_count": 33
  },
  {
   "metadata": {},
   "cell_type": "markdown",
   "source": [
    "# nn.AvgPool1d()\n",
    "## 主要作用：对一维数据进行池化操作，常用于时序数据\n",
    "### 主要参数：kernel_size---池化窗口的大小，stride---窗口移动的步长，默认等于kernel_size，padding---对输入的边界进行填充\n",
    "#### 以下是实例，对于input=torch.tensor([[[1.,2,3,4,5,6,7]]])，将其经过一个kernel_size=3,stride=2的池化层"
   ],
   "id": "fd02bb65f6517656"
  },
  {
   "metadata": {
    "ExecuteTime": {
     "end_time": "2024-06-15T02:33:00.382282Z",
     "start_time": "2024-06-15T02:33:00.376242Z"
    }
   },
   "cell_type": "code",
   "source": [
    "input=torch.tensor([[[1.,2,3,4,5,6,7]]])\n",
    "pool1 = nn.AvgPool1d(kernel_size=3, stride=2)\n",
    "pool1(input)"
   ],
   "id": "3812ec62e858fbba",
   "outputs": [
    {
     "data": {
      "text/plain": [
       "tensor([[[2., 4., 6.]]])"
      ]
     },
     "execution_count": 27,
     "metadata": {},
     "output_type": "execute_result"
    }
   ],
   "execution_count": 27
  },
  {
   "metadata": {},
   "cell_type": "markdown",
   "source": "#### 另一个实例，将输入经过kernel_size=3, stride=1的池化层",
   "id": "ea2a26d36cbfc89"
  },
  {
   "metadata": {
    "ExecuteTime": {
     "end_time": "2024-06-15T03:18:25.082111Z",
     "start_time": "2024-06-15T03:18:25.076675Z"
    }
   },
   "cell_type": "code",
   "source": [
    "pool2 = nn.AvgPool1d(kernel_size=3, stride=1)\n",
    "pool2(input)"
   ],
   "id": "392876e496280ed2",
   "outputs": [
    {
     "data": {
      "text/plain": [
       "tensor([[[2., 3., 4., 5., 6.]]])"
      ]
     },
     "execution_count": 34,
     "metadata": {},
     "output_type": "execute_result"
    }
   ],
   "execution_count": 34
  },
  {
   "metadata": {},
   "cell_type": "markdown",
   "source": "#### 对于padding，如果padding=0，证明没有在输入边界进行填充",
   "id": "a8d66073ad97a99c"
  },
  {
   "metadata": {
    "ExecuteTime": {
     "end_time": "2024-06-15T03:21:54.976552Z",
     "start_time": "2024-06-15T03:21:54.972050Z"
    }
   },
   "cell_type": "code",
   "source": [
    "pool3 = nn.AvgPool1d(kernel_size=3, stride=1,padding=0)\n",
    "pool3(input)"
   ],
   "id": "dfb80de0650f8474",
   "outputs": [
    {
     "data": {
      "text/plain": [
       "tensor([[[2., 3., 4., 5., 6.]]])"
      ]
     },
     "execution_count": 35,
     "metadata": {},
     "output_type": "execute_result"
    }
   ],
   "execution_count": 35
  },
  {
   "metadata": {},
   "cell_type": "markdown",
   "source": "#### 输出没有受到影响，尝试将padding改为1",
   "id": "32c643c0e520adc1"
  },
  {
   "metadata": {
    "ExecuteTime": {
     "end_time": "2024-06-15T03:22:47.113547Z",
     "start_time": "2024-06-15T03:22:47.109406Z"
    }
   },
   "cell_type": "code",
   "source": [
    "pool4 = nn.AvgPool1d(kernel_size=3, stride=1,padding=1)\n",
    "pool4(input)"
   ],
   "id": "189ceea1c3d9ae98",
   "outputs": [
    {
     "data": {
      "text/plain": [
       "tensor([[[1.0000, 2.0000, 3.0000, 4.0000, 5.0000, 6.0000, 4.3333]]])"
      ]
     },
     "execution_count": 36,
     "metadata": {},
     "output_type": "execute_result"
    }
   ],
   "execution_count": 36
  },
  {
   "metadata": {},
   "cell_type": "markdown",
   "source": [
    "#### 可以看到，padding的填充会为输出增加一个额外的池化窗口，进而导致增加了一个额外的输出\n",
    "#### nn.AvgPool1d各个参数对于输出的影响可以参考pytorch文档：https://pytorch.org/docs/1.11/generated/torch.nn.AvgPool1d.html"
   ],
   "id": "4d4dbdf14852389c"
  }
 ],
 "metadata": {
  "kernelspec": {
   "display_name": "Python 3",
   "language": "python",
   "name": "python3"
  },
  "language_info": {
   "codemirror_mode": {
    "name": "ipython",
    "version": 2
   },
   "file_extension": ".py",
   "mimetype": "text/x-python",
   "name": "python",
   "nbconvert_exporter": "python",
   "pygments_lexer": "ipython2",
   "version": "2.7.6"
  }
 },
 "nbformat": 4,
 "nbformat_minor": 5
}
